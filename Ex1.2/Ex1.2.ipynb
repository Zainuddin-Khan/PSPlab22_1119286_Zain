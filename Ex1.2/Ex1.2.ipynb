{
 "cells": [
  {
   "cell_type": "markdown",
   "metadata": {},
   "source": [
    "# Ex 1.2"
   ]
  },
  {
   "cell_type": "code",
   "execution_count": 4,
   "metadata": {},
   "outputs": [
    {
     "name": "stdout",
     "output_type": "stream",
     "text": [
      "For area: 10 mm^2, the optimal voltage is: 985.66V and the cost is $654.08\n",
      "For area: 16 mm^2, the optimal voltage is: 842.73V and the cost is $738.04\n",
      "For area: 25 mm^2, the optimal voltage is: 726.24V and the cost is $905.12\n",
      "For area: 35 mm^2, the optimal voltage is: 649.19V and the cost is $1112.76\n",
      "For area: 50 mm^2, the optimal voltage is: 576.42V and the cost is $1442.19\n",
      "For area: 70 mm^2, the optimal voltage is: 515.26V and the cost is $1896.51\n",
      "For area: 95 mm^2, the optimal voltage is: 465.39V and the cost is $2475.56\n",
      "For area: 120 mm^2, the optimal voltage is: 430.53V and the cost is $3060.92\n",
      "For area: 150 mm^2, the optimal voltage is: 399.66V and the cost is $3767.96\n",
      "For area: 185 mm^2, the optimal voltage is: 372.68V and the cost is $4596.63\n",
      "For area: 240 mm^2, the optimal voltage is: 341.71V and the cost is $5903.62\n",
      "For area: 300 mm^2, the optimal voltage is: 317.21V and the cost is $7333.33\n",
      "For area: 400 mm^2, the optimal voltage is: 288.21V and the cost is $9721.15\n",
      "For area: 500 mm^2, the optimal voltage is: 267.55V and the cost is $12112.47\n"
     ]
    }
   ],
   "source": [
    "# Optimal Voltage\n",
    "\n",
    "real_power = 10     # MWs\n",
    "pf = 0.8\n",
    "s_rated = (real_power*(10**3))/pf\n",
    "k = 0.1     # $/KWh\n",
    "hr = 3000   # h/a\n",
    "resistivity = 2.86*10**-2\n",
    "area = [10,16,25,35,50,70,95,120,150,185,240,300,400,500]   # A\n",
    "volt = []\n",
    "annual_cost = []\n",
    "annuinity = 0.1     # a\n",
    "kv = 2.8    # $/km.kv\n",
    "ka = 240    # $/km.mm2\n",
    "I0 = 1      # Assumption\n",
    "for i in range(len(area)):\n",
    "    volt.append(((2*k*hr*resistivity*(s_rated**2))/(area[i]*annuinity*kv))**(1./3))\n",
    "    annual_cost.append(annuinity*(I0+kv*volt[i]+ka*area[i])+k*hr*(resistivity/area[i])*(s_rated/volt[i])**2)\n",
    "    print(f\"For area: {area[i]} mm^2, the optimal voltage is: {volt[i]:0.2f}V and the cost is ${annual_cost[i]:0.2f}\")\n",
    "\n",
    "# Going with 10mm^2 cable with voltage level of 1000 Volts"
   ]
  },
  {
   "cell_type": "code",
   "execution_count": 2,
   "metadata": {},
   "outputs": [
    {
     "name": "stdout",
     "output_type": "stream",
     "text": [
      "2.0\n"
     ]
    }
   ],
   "source": [
    "print(8**(1./3))"
   ]
  }
 ],
 "metadata": {
  "kernelspec": {
   "display_name": "Python 3.9.13 ('base')",
   "language": "python",
   "name": "python3"
  },
  "language_info": {
   "codemirror_mode": {
    "name": "ipython",
    "version": 3
   },
   "file_extension": ".py",
   "mimetype": "text/x-python",
   "name": "python",
   "nbconvert_exporter": "python",
   "pygments_lexer": "ipython3",
   "version": "3.9.13"
  },
  "orig_nbformat": 4,
  "vscode": {
   "interpreter": {
    "hash": "adfeaa4603d269aacdb9da923410e35c22a768391d15c94ef5ce3a27409bd4d6"
   }
  }
 },
 "nbformat": 4,
 "nbformat_minor": 2
}
